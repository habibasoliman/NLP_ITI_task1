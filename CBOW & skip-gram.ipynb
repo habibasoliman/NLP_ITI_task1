{
  "nbformat": 4,
  "nbformat_minor": 0,
  "metadata": {
    "colab": {
      "provenance": []
    },
    "kernelspec": {
      "name": "python3",
      "display_name": "Python 3"
    },
    "language_info": {
      "name": "python"
    }
  },
  "cells": [
    {
      "cell_type": "code",
      "execution_count": 1,
      "metadata": {
        "colab": {
          "base_uri": "https://localhost:8080/"
        },
        "id": "hM7KUcmAVrNc",
        "outputId": "4d2d31fb-3647-4846-ac12-5b54d3c0d332"
      },
      "outputs": [
        {
          "output_type": "stream",
          "name": "stdout",
          "text": [
            "Collecting gensim\n",
            "  Downloading gensim-4.3.3-cp311-cp311-manylinux_2_17_x86_64.manylinux2014_x86_64.whl.metadata (8.1 kB)\n",
            "Collecting numpy<2.0,>=1.18.5 (from gensim)\n",
            "  Downloading numpy-1.26.4-cp311-cp311-manylinux_2_17_x86_64.manylinux2014_x86_64.whl.metadata (61 kB)\n",
            "\u001b[2K     \u001b[90m━━━━━━━━━━━━━━━━━━━━━━━━━━━━━━━━━━━━━━━━\u001b[0m \u001b[32m61.0/61.0 kB\u001b[0m \u001b[31m1.4 MB/s\u001b[0m eta \u001b[36m0:00:00\u001b[0m\n",
            "\u001b[?25hCollecting scipy<1.14.0,>=1.7.0 (from gensim)\n",
            "  Downloading scipy-1.13.1-cp311-cp311-manylinux_2_17_x86_64.manylinux2014_x86_64.whl.metadata (60 kB)\n",
            "\u001b[2K     \u001b[90m━━━━━━━━━━━━━━━━━━━━━━━━━━━━━━━━━━━━━━━━\u001b[0m \u001b[32m60.6/60.6 kB\u001b[0m \u001b[31m2.4 MB/s\u001b[0m eta \u001b[36m0:00:00\u001b[0m\n",
            "\u001b[?25hRequirement already satisfied: smart-open>=1.8.1 in /usr/local/lib/python3.11/dist-packages (from gensim) (7.1.0)\n",
            "Requirement already satisfied: wrapt in /usr/local/lib/python3.11/dist-packages (from smart-open>=1.8.1->gensim) (1.17.2)\n",
            "Downloading gensim-4.3.3-cp311-cp311-manylinux_2_17_x86_64.manylinux2014_x86_64.whl (26.7 MB)\n",
            "\u001b[2K   \u001b[90m━━━━━━━━━━━━━━━━━━━━━━━━━━━━━━━━━━━━━━━━\u001b[0m \u001b[32m26.7/26.7 MB\u001b[0m \u001b[31m52.2 MB/s\u001b[0m eta \u001b[36m0:00:00\u001b[0m\n",
            "\u001b[?25hDownloading numpy-1.26.4-cp311-cp311-manylinux_2_17_x86_64.manylinux2014_x86_64.whl (18.3 MB)\n",
            "\u001b[2K   \u001b[90m━━━━━━━━━━━━━━━━━━━━━━━━━━━━━━━━━━━━━━━━\u001b[0m \u001b[32m18.3/18.3 MB\u001b[0m \u001b[31m25.5 MB/s\u001b[0m eta \u001b[36m0:00:00\u001b[0m\n",
            "\u001b[?25hDownloading scipy-1.13.1-cp311-cp311-manylinux_2_17_x86_64.manylinux2014_x86_64.whl (38.6 MB)\n",
            "\u001b[2K   \u001b[90m━━━━━━━━━━━━━━━━━━━━━━━━━━━━━━━━━━━━━━━━\u001b[0m \u001b[32m38.6/38.6 MB\u001b[0m \u001b[31m17.7 MB/s\u001b[0m eta \u001b[36m0:00:00\u001b[0m\n",
            "\u001b[?25hInstalling collected packages: numpy, scipy, gensim\n",
            "  Attempting uninstall: numpy\n",
            "    Found existing installation: numpy 2.0.2\n",
            "    Uninstalling numpy-2.0.2:\n",
            "      Successfully uninstalled numpy-2.0.2\n",
            "  Attempting uninstall: scipy\n",
            "    Found existing installation: scipy 1.15.2\n",
            "    Uninstalling scipy-1.15.2:\n",
            "      Successfully uninstalled scipy-1.15.2\n",
            "\u001b[31mERROR: pip's dependency resolver does not currently take into account all the packages that are installed. This behaviour is the source of the following dependency conflicts.\n",
            "thinc 8.3.6 requires numpy<3.0.0,>=2.0.0, but you have numpy 1.26.4 which is incompatible.\u001b[0m\u001b[31m\n",
            "\u001b[0mSuccessfully installed gensim-4.3.3 numpy-1.26.4 scipy-1.13.1\n"
          ]
        }
      ],
      "source": [
        "pip install gensim\n"
      ]
    },
    {
      "cell_type": "code",
      "source": [
        "import gensim.downloader as api\n",
        "import numpy as np"
      ],
      "metadata": {
        "id": "xrglWJerWIH-"
      },
      "execution_count": 1,
      "outputs": []
    },
    {
      "cell_type": "code",
      "source": [
        "# Load the pretrained GloVe vectors (100-dimensional)\n",
        "glove_model = api.load(\"glove-wiki-gigaword-100\")\n",
        "\n",
        "# Example sentence\n",
        "tokens = [\"the\", \"cat\", \"sat\", \"on\", \"the\", \"mat\"]"
      ],
      "metadata": {
        "colab": {
          "base_uri": "https://localhost:8080/"
        },
        "id": "xaJbc-kBWM39",
        "outputId": "e0edd165-ee20-4c4e-a497-842f7c3772dd"
      },
      "execution_count": 2,
      "outputs": [
        {
          "output_type": "stream",
          "name": "stdout",
          "text": [
            "[==================================================] 100.0% 128.1/128.1MB downloaded\n"
          ]
        }
      ]
    },
    {
      "cell_type": "code",
      "source": [
        "def simulate_skipgram(target_word):\n",
        "   #check if the given word exist in the pretrained model or not ?\n",
        "    if target_word in glove_model:\n",
        "        similar_words = glove_model.most_similar(target_word, topn=5)\n",
        "        for word, score in similar_words:\n",
        "            print(f\"{word} (similarity to the given word: {score:.4f})\")\n",
        "    else:\n",
        "        print(f\"'{target_word}' not found in GloVe vocabulary.\")\n",
        "\n"
      ],
      "metadata": {
        "id": "9a-ogim8WxEI"
      },
      "execution_count": 8,
      "outputs": []
    },
    {
      "cell_type": "code",
      "source": [
        "simulate_skipgram(\"cat\")"
      ],
      "metadata": {
        "colab": {
          "base_uri": "https://localhost:8080/"
        },
        "id": "qM3PgPn-Zu87",
        "outputId": "50aae503-9967-4ee0-aee1-1b35753f75e8"
      },
      "execution_count": 10,
      "outputs": [
        {
          "output_type": "stream",
          "name": "stdout",
          "text": [
            "dog (similarity to the given word: 0.8798)\n",
            "rabbit (similarity to the given word: 0.7424)\n",
            "cats (similarity to the given word: 0.7323)\n",
            "monkey (similarity to the given word: 0.7289)\n",
            "pet (similarity to the given word: 0.7190)\n"
          ]
        }
      ]
    },
    {
      "cell_type": "code",
      "source": [
        "def simulate_cbow(tokens,target_idx,context_window=2):\n",
        "    context_words = []\n",
        "    for i in range(target_idx - context_window, target_idx + context_window + 1):\n",
        "        if i != target_idx and 0 <= i < len(tokens):\n",
        "            context_words.append(tokens[i])\n",
        "\n",
        "    print(\"Context words:\", context_words)\n",
        "\n",
        "    vectors = []\n",
        "    for word in context_words:\n",
        "        if word in glove_model:\n",
        "            vectors.append(glove_model[word])\n",
        "\n",
        "    if vectors:\n",
        "        avg_vector = np.mean(vectors, axis=0)\n",
        "        similar_words = glove_model.similar_by_vector(avg_vector, topn=5)\n",
        "\n",
        "        for word, score in similar_words:\n",
        "            print(f\"{word} (similarity: {score:.4f})\")\n",
        "    else:\n",
        "        print(\"No valid context words found in GloVe vocabulary.\")"
      ],
      "metadata": {
        "id": "_VLXVzdYXAGi"
      },
      "execution_count": 20,
      "outputs": []
    },
    {
      "cell_type": "code",
      "source": [
        "tokens = [\"the\", \"cat\", \"sat\", \"on\", \"the\", \"mat\"]\n",
        "target_idx = 5  # \"mat\""
      ],
      "metadata": {
        "id": "BOXJfSElZpl3"
      },
      "execution_count": 21,
      "outputs": []
    },
    {
      "cell_type": "code",
      "source": [
        "simulate_cbow(tokens, target_idx, context_window=2)"
      ],
      "metadata": {
        "colab": {
          "base_uri": "https://localhost:8080/"
        },
        "id": "oNuXBgzgZBFn",
        "outputId": "3a5208fd-1d06-4edb-e369-74cc8b0577d8"
      },
      "execution_count": 22,
      "outputs": [
        {
          "output_type": "stream",
          "name": "stdout",
          "text": [
            "Context words: ['on', 'the']\n",
            "on (similarity: 0.9565)\n",
            "the (similarity: 0.9513)\n",
            "this (similarity: 0.8480)\n",
            "over (similarity: 0.8385)\n",
            "one (similarity: 0.8381)\n"
          ]
        }
      ]
    },
    {
      "cell_type": "code",
      "source": [],
      "metadata": {
        "id": "qjgILqKlXEg7"
      },
      "execution_count": null,
      "outputs": []
    }
  ]
}
